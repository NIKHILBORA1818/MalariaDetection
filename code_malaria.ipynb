{
 "cells": [
  {
   "cell_type": "markdown",
   "metadata": {},
   "source": [
    "## Malaria detection using CNN by Nikhil Bora and Pratik Mehkarkar"
   ]
  },
  {
   "cell_type": "code",
   "execution_count": 1,
   "metadata": {},
   "outputs": [],
   "source": [
    "# import the libraries as shown below\n",
    "\n",
    "from tensorflow.keras.layers import Input, Lambda, Dense, Flatten,Conv2D\n",
    "from tensorflow.keras.models import Model\n",
    "from tensorflow.keras.applications.vgg19 import VGG19\n",
    "from tensorflow.keras.applications.resnet50 import preprocess_input\n",
    "from tensorflow.keras.preprocessing import image\n",
    "from tensorflow.keras.preprocessing.image import ImageDataGenerator,load_img\n",
    "from tensorflow.keras.models import Sequential\n",
    "import numpy as np\n",
    "from glob import glob\n",
    "import matplotlib.pyplot as plt"
   ]
  },
  {
   "cell_type": "code",
   "execution_count": 2,
   "metadata": {},
   "outputs": [],
   "source": [
    "# re-size all the images to this\n",
    "IMAGE_SIZE = [224, 224]\n",
    "\n",
    "train_path = 'Dataset/Train'\n",
    "valid_path = 'Dataset/Test'\n"
   ]
  },
  {
   "cell_type": "code",
   "execution_count": 3,
   "metadata": {},
   "outputs": [
    {
     "name": "stderr",
     "output_type": "stream",
     "text": [
      "2021-12-09 11:59:31.200163: I tensorflow/core/platform/cpu_feature_guard.cc:151] This TensorFlow binary is optimized with oneAPI Deep Neural Network Library (oneDNN) to use the following CPU instructions in performance-critical operations:  AVX2 FMA\n",
      "To enable them in other operations, rebuild TensorFlow with the appropriate compiler flags.\n"
     ]
    }
   ],
   "source": [
    "# Import the Vgg 16 library as shown below and add preprocessing layer to the front of VGG\n",
    "# Here we will be using imagenet weights\n",
    "\n",
    "mobilnet = VGG19(input_shape=IMAGE_SIZE + [3], weights='imagenet', include_top=False)\n",
    "\n",
    "\n"
   ]
  },
  {
   "cell_type": "code",
   "execution_count": 4,
   "metadata": {},
   "outputs": [],
   "source": [
    "# don't train existing weights\n",
    "for layer in mobilnet.layers:\n",
    "    layer.trainable = False"
   ]
  },
  {
   "cell_type": "code",
   "execution_count": 5,
   "metadata": {},
   "outputs": [],
   "source": [
    "  # useful for getting number of output classes\n",
    "folders = glob('Dataset/Train/*')"
   ]
  },
  {
   "cell_type": "code",
   "execution_count": 6,
   "metadata": {},
   "outputs": [
    {
     "data": {
      "text/plain": [
       "['Dataset/Train/Parasite', 'Dataset/Train/Uninfected']"
      ]
     },
     "execution_count": 6,
     "metadata": {},
     "output_type": "execute_result"
    }
   ],
   "source": [
    "folders"
   ]
  },
  {
   "cell_type": "code",
   "execution_count": 7,
   "metadata": {},
   "outputs": [],
   "source": [
    "# our layers \n",
    "x = Flatten()(mobilnet.output)"
   ]
  },
  {
   "cell_type": "code",
   "execution_count": 8,
   "metadata": {},
   "outputs": [],
   "source": [
    "prediction = Dense(len(folders), activation='softmax')(x)\n",
    "\n",
    "# create a model object\n",
    "model = Model(inputs=mobilnet.input, outputs=prediction)"
   ]
  },
  {
   "cell_type": "code",
   "execution_count": 9,
   "metadata": {},
   "outputs": [
    {
     "name": "stdout",
     "output_type": "stream",
     "text": [
      "Model: \"model\"\n",
      "_________________________________________________________________\n",
      " Layer (type)                Output Shape              Param #   \n",
      "=================================================================\n",
      " input_1 (InputLayer)        [(None, 224, 224, 3)]     0         \n",
      "                                                                 \n",
      " block1_conv1 (Conv2D)       (None, 224, 224, 64)      1792      \n",
      "                                                                 \n",
      " block1_conv2 (Conv2D)       (None, 224, 224, 64)      36928     \n",
      "                                                                 \n",
      " block1_pool (MaxPooling2D)  (None, 112, 112, 64)      0         \n",
      "                                                                 \n",
      " block2_conv1 (Conv2D)       (None, 112, 112, 128)     73856     \n",
      "                                                                 \n",
      " block2_conv2 (Conv2D)       (None, 112, 112, 128)     147584    \n",
      "                                                                 \n",
      " block2_pool (MaxPooling2D)  (None, 56, 56, 128)       0         \n",
      "                                                                 \n",
      " block3_conv1 (Conv2D)       (None, 56, 56, 256)       295168    \n",
      "                                                                 \n",
      " block3_conv2 (Conv2D)       (None, 56, 56, 256)       590080    \n",
      "                                                                 \n",
      " block3_conv3 (Conv2D)       (None, 56, 56, 256)       590080    \n",
      "                                                                 \n",
      " block3_conv4 (Conv2D)       (None, 56, 56, 256)       590080    \n",
      "                                                                 \n",
      " block3_pool (MaxPooling2D)  (None, 28, 28, 256)       0         \n",
      "                                                                 \n",
      " block4_conv1 (Conv2D)       (None, 28, 28, 512)       1180160   \n",
      "                                                                 \n",
      " block4_conv2 (Conv2D)       (None, 28, 28, 512)       2359808   \n",
      "                                                                 \n",
      " block4_conv3 (Conv2D)       (None, 28, 28, 512)       2359808   \n",
      "                                                                 \n",
      " block4_conv4 (Conv2D)       (None, 28, 28, 512)       2359808   \n",
      "                                                                 \n",
      " block4_pool (MaxPooling2D)  (None, 14, 14, 512)       0         \n",
      "                                                                 \n",
      " block5_conv1 (Conv2D)       (None, 14, 14, 512)       2359808   \n",
      "                                                                 \n",
      " block5_conv2 (Conv2D)       (None, 14, 14, 512)       2359808   \n",
      "                                                                 \n",
      " block5_conv3 (Conv2D)       (None, 14, 14, 512)       2359808   \n",
      "                                                                 \n",
      " block5_conv4 (Conv2D)       (None, 14, 14, 512)       2359808   \n",
      "                                                                 \n",
      " block5_pool (MaxPooling2D)  (None, 7, 7, 512)         0         \n",
      "                                                                 \n",
      " flatten (Flatten)           (None, 25088)             0         \n",
      "                                                                 \n",
      " dense (Dense)               (None, 2)                 50178     \n",
      "                                                                 \n",
      "=================================================================\n",
      "Total params: 20,074,562\n",
      "Trainable params: 50,178\n",
      "Non-trainable params: 20,024,384\n",
      "_________________________________________________________________\n"
     ]
    }
   ],
   "source": [
    "\n",
    "# view the structure of the model\n",
    "model.summary()\n"
   ]
  },
  {
   "cell_type": "code",
   "execution_count": 10,
   "metadata": {},
   "outputs": [],
   "source": [
    "from tensorflow.keras.layers import MaxPooling2D"
   ]
  },
  {
   "cell_type": "code",
   "execution_count": 11,
   "metadata": {},
   "outputs": [
    {
     "name": "stdout",
     "output_type": "stream",
     "text": [
      "Model: \"sequential\"\n",
      "_________________________________________________________________\n",
      " Layer (type)                Output Shape              Param #   \n",
      "=================================================================\n",
      " conv2d (Conv2D)             (None, 224, 224, 16)      208       \n",
      "                                                                 \n",
      " max_pooling2d (MaxPooling2D  (None, 112, 112, 16)     0         \n",
      " )                                                               \n",
      "                                                                 \n",
      " conv2d_1 (Conv2D)           (None, 112, 112, 32)      2080      \n",
      "                                                                 \n",
      " max_pooling2d_1 (MaxPooling  (None, 56, 56, 32)       0         \n",
      " 2D)                                                             \n",
      "                                                                 \n",
      " conv2d_2 (Conv2D)           (None, 56, 56, 64)        8256      \n",
      "                                                                 \n",
      " max_pooling2d_2 (MaxPooling  (None, 28, 28, 64)       0         \n",
      " 2D)                                                             \n",
      "                                                                 \n",
      " flatten_1 (Flatten)         (None, 50176)             0         \n",
      "                                                                 \n",
      " dense_1 (Dense)             (None, 500)               25088500  \n",
      "                                                                 \n",
      " dense_2 (Dense)             (None, 2)                 1002      \n",
      "                                                                 \n",
      "=================================================================\n",
      "Total params: 25,100,046\n",
      "Trainable params: 25,100,046\n",
      "Non-trainable params: 0\n",
      "_________________________________________________________________\n"
     ]
    }
   ],
   "source": [
    "### Create Model from scratch using CNN\n",
    "model=Sequential()\n",
    "model.add(Conv2D(filters=16,kernel_size=2,padding=\"same\",activation=\"relu\",input_shape=(224,224,3)))\n",
    "model.add(MaxPooling2D(pool_size=2))\n",
    "model.add(Conv2D(filters=32,kernel_size=2,padding=\"same\",activation =\"relu\"))\n",
    "model.add(MaxPooling2D(pool_size=2))\n",
    "model.add(Conv2D(filters=64,kernel_size=2,padding=\"same\",activation=\"relu\"))\n",
    "model.add(MaxPooling2D(pool_size=2))\n",
    "model.add(Flatten())\n",
    "model.add(Dense(500,activation=\"relu\"))\n",
    "model.add(Dense(2,activation=\"softmax\"))\n",
    "model.summary()"
   ]
  },
  {
   "cell_type": "code",
   "execution_count": 12,
   "metadata": {},
   "outputs": [],
   "source": [
    "# tell the model what cost and optimization method to use\n",
    "model.compile(\n",
    "  loss='categorical_crossentropy',\n",
    "  optimizer='adam',\n",
    "  metrics=['accuracy']\n",
    ")\n"
   ]
  },
  {
   "cell_type": "code",
   "execution_count": 13,
   "metadata": {},
   "outputs": [],
   "source": [
    "# Use the Image Data Generator to import the images from the dataset\n",
    "from tensorflow.keras.preprocessing.image import ImageDataGenerator\n",
    "\n",
    "train_datagen = ImageDataGenerator(rescale = 1./255,\n",
    "                                   shear_range = 0.2,\n",
    "                                   zoom_range = 0.2,\n",
    "                                   horizontal_flip = True)\n",
    "\n",
    "test_datagen = ImageDataGenerator(rescale = 1./255)"
   ]
  },
  {
   "cell_type": "code",
   "execution_count": 14,
   "metadata": {},
   "outputs": [
    {
     "name": "stdout",
     "output_type": "stream",
     "text": [
      "Found 416 images belonging to 2 classes.\n"
     ]
    }
   ],
   "source": [
    "# \n",
    "training_set = train_datagen.flow_from_directory('Dataset/Train',\n",
    "                                                 target_size = (224, 224),\n",
    "                                                 batch_size = 32,\n",
    "                                                 class_mode = 'categorical')"
   ]
  },
  {
   "cell_type": "code",
   "execution_count": 15,
   "metadata": {},
   "outputs": [
    {
     "data": {
      "text/plain": [
       "<keras.preprocessing.image.DirectoryIterator at 0x7f7d8122b880>"
      ]
     },
     "execution_count": 15,
     "metadata": {},
     "output_type": "execute_result"
    }
   ],
   "source": [
    "training_set"
   ]
  },
  {
   "cell_type": "code",
   "execution_count": 16,
   "metadata": {},
   "outputs": [
    {
     "name": "stdout",
     "output_type": "stream",
     "text": [
      "Found 134 images belonging to 2 classes.\n"
     ]
    }
   ],
   "source": [
    "test_set = test_datagen.flow_from_directory('Dataset/Test',\n",
    "                                            target_size = (224, 224),\n",
    "                                            batch_size = 32,\n",
    "                                            class_mode = 'categorical')"
   ]
  },
  {
   "cell_type": "code",
   "execution_count": 17,
   "metadata": {
    "scrolled": true
   },
   "outputs": [
    {
     "name": "stderr",
     "output_type": "stream",
     "text": [
      "/var/folders/yv/g0br10m156710fj7db2l2xch0000gn/T/ipykernel_944/4102162479.py:3: UserWarning: `Model.fit_generator` is deprecated and will be removed in a future version. Please use `Model.fit`, which supports generators.\n",
      "  r = model.fit_generator(\n"
     ]
    },
    {
     "name": "stdout",
     "output_type": "stream",
     "text": [
      "Epoch 1/50\n",
      "13/13 [==============================] - 9s 618ms/step - loss: 2.1151 - accuracy: 0.4832 - val_loss: 0.6333 - val_accuracy: 0.6791\n",
      "Epoch 2/50\n",
      "13/13 [==============================] - 8s 601ms/step - loss: 0.6426 - accuracy: 0.6442 - val_loss: 0.7891 - val_accuracy: 0.3955\n",
      "Epoch 3/50\n",
      "13/13 [==============================] - 8s 625ms/step - loss: 0.5498 - accuracy: 0.7043 - val_loss: 0.9244 - val_accuracy: 0.3209\n",
      "Epoch 4/50\n",
      "13/13 [==============================] - 8s 601ms/step - loss: 0.4633 - accuracy: 0.7620 - val_loss: 1.1146 - val_accuracy: 0.3284\n",
      "Epoch 5/50\n",
      "13/13 [==============================] - 8s 586ms/step - loss: 0.4688 - accuracy: 0.7788 - val_loss: 0.8060 - val_accuracy: 0.5000\n",
      "Epoch 6/50\n",
      "13/13 [==============================] - 8s 575ms/step - loss: 0.3688 - accuracy: 0.8462 - val_loss: 0.8568 - val_accuracy: 0.5224\n",
      "Epoch 7/50\n",
      "13/13 [==============================] - 8s 591ms/step - loss: 0.3247 - accuracy: 0.8558 - val_loss: 0.6101 - val_accuracy: 0.6418\n",
      "Epoch 8/50\n",
      "13/13 [==============================] - 8s 586ms/step - loss: 0.3071 - accuracy: 0.8870 - val_loss: 0.6041 - val_accuracy: 0.6791\n",
      "Epoch 9/50\n",
      "13/13 [==============================] - 8s 578ms/step - loss: 0.2665 - accuracy: 0.8894 - val_loss: 0.4438 - val_accuracy: 0.7687\n",
      "Epoch 10/50\n",
      "13/13 [==============================] - 8s 571ms/step - loss: 0.2035 - accuracy: 0.9279 - val_loss: 0.6192 - val_accuracy: 0.7313\n",
      "Epoch 11/50\n",
      "13/13 [==============================] - 8s 566ms/step - loss: 0.1846 - accuracy: 0.9327 - val_loss: 0.4075 - val_accuracy: 0.8060\n",
      "Epoch 12/50\n",
      "13/13 [==============================] - 8s 580ms/step - loss: 0.1375 - accuracy: 0.9567 - val_loss: 0.5130 - val_accuracy: 0.7687\n",
      "Epoch 13/50\n",
      "13/13 [==============================] - 8s 574ms/step - loss: 0.1415 - accuracy: 0.9543 - val_loss: 0.4481 - val_accuracy: 0.7985\n",
      "Epoch 14/50\n",
      "13/13 [==============================] - 8s 583ms/step - loss: 0.1360 - accuracy: 0.9543 - val_loss: 0.3542 - val_accuracy: 0.8433\n",
      "Epoch 15/50\n",
      "13/13 [==============================] - 8s 627ms/step - loss: 0.1172 - accuracy: 0.9663 - val_loss: 0.4095 - val_accuracy: 0.8433\n",
      "Epoch 16/50\n",
      "13/13 [==============================] - 8s 597ms/step - loss: 0.1265 - accuracy: 0.9591 - val_loss: 0.4147 - val_accuracy: 0.8433\n",
      "Epoch 17/50\n",
      "13/13 [==============================] - 8s 590ms/step - loss: 0.1304 - accuracy: 0.9639 - val_loss: 0.3666 - val_accuracy: 0.8284\n",
      "Epoch 18/50\n",
      "13/13 [==============================] - 8s 571ms/step - loss: 0.1027 - accuracy: 0.9688 - val_loss: 0.3951 - val_accuracy: 0.8209\n",
      "Epoch 19/50\n",
      "13/13 [==============================] - 8s 574ms/step - loss: 0.1049 - accuracy: 0.9736 - val_loss: 0.4225 - val_accuracy: 0.8358\n",
      "Epoch 20/50\n",
      "13/13 [==============================] - 7s 562ms/step - loss: 0.1033 - accuracy: 0.9712 - val_loss: 0.5640 - val_accuracy: 0.8134\n",
      "Epoch 21/50\n",
      "13/13 [==============================] - 7s 556ms/step - loss: 0.0923 - accuracy: 0.9760 - val_loss: 0.5290 - val_accuracy: 0.8358\n",
      "Epoch 22/50\n",
      "13/13 [==============================] - 7s 555ms/step - loss: 0.1249 - accuracy: 0.9591 - val_loss: 0.3166 - val_accuracy: 0.8582\n",
      "Epoch 23/50\n",
      "13/13 [==============================] - 7s 547ms/step - loss: 0.0842 - accuracy: 0.9712 - val_loss: 0.4426 - val_accuracy: 0.8582\n",
      "Epoch 24/50\n",
      "13/13 [==============================] - 7s 562ms/step - loss: 0.0762 - accuracy: 0.9808 - val_loss: 0.3312 - val_accuracy: 0.8657\n",
      "Epoch 25/50\n",
      "13/13 [==============================] - 7s 562ms/step - loss: 0.0815 - accuracy: 0.9784 - val_loss: 0.3138 - val_accuracy: 0.8582\n",
      "Epoch 26/50\n",
      "13/13 [==============================] - 8s 590ms/step - loss: 0.0652 - accuracy: 0.9760 - val_loss: 0.3577 - val_accuracy: 0.8582\n",
      "Epoch 27/50\n",
      "13/13 [==============================] - 8s 601ms/step - loss: 0.0508 - accuracy: 0.9832 - val_loss: 0.3550 - val_accuracy: 0.8731\n",
      "Epoch 28/50\n",
      "13/13 [==============================] - 8s 620ms/step - loss: 0.0609 - accuracy: 0.9856 - val_loss: 0.4660 - val_accuracy: 0.8582\n",
      "Epoch 29/50\n",
      "13/13 [==============================] - 9s 670ms/step - loss: 0.0875 - accuracy: 0.9760 - val_loss: 0.2674 - val_accuracy: 0.9030\n",
      "Epoch 30/50\n",
      "13/13 [==============================] - 8s 596ms/step - loss: 0.0423 - accuracy: 0.9832 - val_loss: 0.3313 - val_accuracy: 0.8955\n",
      "Epoch 31/50\n",
      "13/13 [==============================] - 8s 609ms/step - loss: 0.0705 - accuracy: 0.9784 - val_loss: 0.3413 - val_accuracy: 0.8731\n",
      "Epoch 32/50\n",
      "13/13 [==============================] - 8s 619ms/step - loss: 0.0536 - accuracy: 0.9904 - val_loss: 0.2841 - val_accuracy: 0.8955\n",
      "Epoch 33/50\n",
      "13/13 [==============================] - 8s 589ms/step - loss: 0.0525 - accuracy: 0.9808 - val_loss: 0.2975 - val_accuracy: 0.8881\n",
      "Epoch 34/50\n",
      "13/13 [==============================] - 8s 593ms/step - loss: 0.0416 - accuracy: 0.9952 - val_loss: 0.3195 - val_accuracy: 0.8731\n",
      "Epoch 35/50\n",
      "13/13 [==============================] - 8s 585ms/step - loss: 0.0423 - accuracy: 0.9880 - val_loss: 0.4207 - val_accuracy: 0.8731\n",
      "Epoch 36/50\n",
      "13/13 [==============================] - 8s 577ms/step - loss: 0.0395 - accuracy: 0.9904 - val_loss: 0.2457 - val_accuracy: 0.9030\n",
      "Epoch 37/50\n",
      "13/13 [==============================] - 8s 576ms/step - loss: 0.0305 - accuracy: 0.9904 - val_loss: 0.2750 - val_accuracy: 0.8955\n",
      "Epoch 38/50\n",
      "13/13 [==============================] - 8s 619ms/step - loss: 0.0457 - accuracy: 0.9904 - val_loss: 0.2132 - val_accuracy: 0.9254\n",
      "Epoch 39/50\n",
      "13/13 [==============================] - 8s 631ms/step - loss: 0.0383 - accuracy: 0.9904 - val_loss: 0.3251 - val_accuracy: 0.8806\n",
      "Epoch 40/50\n",
      "13/13 [==============================] - 8s 571ms/step - loss: 0.0392 - accuracy: 0.9880 - val_loss: 0.3006 - val_accuracy: 0.8881\n",
      "Epoch 41/50\n",
      "13/13 [==============================] - 8s 582ms/step - loss: 0.0430 - accuracy: 0.9880 - val_loss: 0.5439 - val_accuracy: 0.8657\n",
      "Epoch 42/50\n",
      "13/13 [==============================] - 8s 629ms/step - loss: 0.0837 - accuracy: 0.9736 - val_loss: 0.2391 - val_accuracy: 0.9030\n",
      "Epoch 43/50\n",
      "13/13 [==============================] - 8s 633ms/step - loss: 0.0570 - accuracy: 0.9880 - val_loss: 0.3411 - val_accuracy: 0.8955\n",
      "Epoch 44/50\n",
      "13/13 [==============================] - 8s 613ms/step - loss: 0.0534 - accuracy: 0.9904 - val_loss: 0.5476 - val_accuracy: 0.8657\n",
      "Epoch 45/50\n",
      "13/13 [==============================] - 9s 652ms/step - loss: 0.0785 - accuracy: 0.9784 - val_loss: 0.2572 - val_accuracy: 0.8955\n",
      "Epoch 46/50\n",
      "13/13 [==============================] - 9s 668ms/step - loss: 0.0443 - accuracy: 0.9880 - val_loss: 0.3342 - val_accuracy: 0.8806\n",
      "Epoch 47/50\n",
      "13/13 [==============================] - 9s 723ms/step - loss: 0.0379 - accuracy: 0.9928 - val_loss: 0.6793 - val_accuracy: 0.8507\n",
      "Epoch 48/50\n",
      "13/13 [==============================] - 10s 716ms/step - loss: 0.0409 - accuracy: 0.9928 - val_loss: 0.2374 - val_accuracy: 0.9104\n",
      "Epoch 49/50\n",
      "13/13 [==============================] - 9s 642ms/step - loss: 0.0232 - accuracy: 0.9952 - val_loss: 0.4246 - val_accuracy: 0.8731\n",
      "Epoch 50/50\n",
      "13/13 [==============================] - 10s 714ms/step - loss: 0.0170 - accuracy: 0.9976 - val_loss: 0.3401 - val_accuracy: 0.9104\n"
     ]
    }
   ],
   "source": [
    "# fit the model\n",
    "# Run the cell. It will take some time to execute\n",
    "r = model.fit_generator(\n",
    "  training_set,\n",
    "  validation_data=test_set,\n",
    "  epochs=50,\n",
    "  steps_per_epoch=len(training_set),\n",
    "  validation_steps=len(test_set)\n",
    ")"
   ]
  },
  {
   "cell_type": "code",
   "execution_count": null,
   "metadata": {},
   "outputs": [],
   "source": []
  },
  {
   "cell_type": "code",
   "execution_count": 18,
   "metadata": {},
   "outputs": [
    {
     "data": {
      "image/png": "[encoded data removed]",
      "text/plain": [
       "<Figure size 432x288 with 1 Axes>"
      ]
     },
     "metadata": {
      "needs_background": "light"
     },
     "output_type": "display_data"
    },
    {
     "data": {
      "image/png": "[encoded data removed]",
      "text/plain": [
       "<Figure size 432x288 with 1 Axes>"
      ]
     },
     "metadata": {
      "needs_background": "light"
     },
     "output_type": "display_data"
    },
    {
     "data": {
      "text/plain": [
       "<Figure size 432x288 with 0 Axes>"
      ]
     },
     "metadata": {},
     "output_type": "display_data"
    }
   ],
   "source": [
    "# plot the loss\n",
    "plt.plot(r.history['loss'], label='train loss')\n",
    "plt.plot(r.history['val_loss'], label='val loss')\n",
    "plt.legend()\n",
    "plt.show()\n",
    "plt.savefig('LossVal_loss')\n",
    "\n",
    "# plot the accuracy\n",
    "plt.plot(r.history['accuracy'], label='train acc')\n",
    "plt.plot(r.history['val_accuracy'], label='val acc')\n",
    "plt.legend()\n",
    "plt.show()\n",
    "plt.savefig('AccVal_acc')"
   ]
  },
  {
   "cell_type": "code",
   "execution_count": 19,
   "metadata": {},
   "outputs": [],
   "source": [
    "# save it as a h5 file\n",
    "\n",
    "\n",
    "from tensorflow.keras.models import load_model\n",
    "\n",
    "model.save('model.h5')"
   ]
  },
  {
   "cell_type": "code",
   "execution_count": null,
   "metadata": {},
   "outputs": [],
   "source": []
  },
  {
   "cell_type": "code",
   "execution_count": 20,
   "metadata": {},
   "outputs": [],
   "source": [
    "\n",
    "y_pred = model.predict(test_set)\n"
   ]
  },
  {
   "cell_type": "code",
   "execution_count": 21,
   "metadata": {},
   "outputs": [
    {
     "data": {
      "text/plain": [
       "array([[1.0000000e+00, 1.0834731e-11],\n",
       "       [9.9280787e-01, 7.1921740e-03],\n",
       "       [1.0000000e+00, 1.8453897e-14],\n",
       "       [2.3639232e-03, 9.9763608e-01],\n",
       "       [9.9995780e-01, 4.2165386e-05],\n",
       "       [9.9999499e-01, 5.0631838e-06],\n",
       "       [6.1867213e-01, 3.8132787e-01],\n",
       "       [1.0000000e+00, 2.2147311e-09],\n",
       "       [9.9945301e-01, 5.4694933e-04],\n",
       "       [8.0829597e-01, 1.9170402e-01],\n",
       "       [1.2041107e-01, 8.7958896e-01],\n",
       "       [1.0000000e+00, 7.1650971e-14],\n",
       "       [9.9999917e-01, 8.4492962e-07],\n",
       "       [2.4717741e-03, 9.9752825e-01],\n",
       "       [1.0000000e+00, 6.8159300e-10],\n",
       "       [9.9999952e-01, 4.8517148e-07],\n",
       "       [6.1128568e-03, 9.9388713e-01],\n",
       "       [9.9999976e-01, 2.8647273e-07],\n",
       "       [4.4256590e-02, 9.5574343e-01],\n",
       "       [4.7026294e-01, 5.2973700e-01],\n",
       "       [1.8243146e-01, 8.1756854e-01],\n",
       "       [1.4776923e-02, 9.8522305e-01],\n",
       "       [9.9985099e-01, 1.4903021e-04],\n",
       "       [2.9054321e-03, 9.9709451e-01],\n",
       "       [9.9999928e-01, 6.8139212e-07],\n",
       "       [1.8878453e-03, 9.9811220e-01],\n",
       "       [9.9999666e-01, 3.3034319e-06],\n",
       "       [9.9999988e-01, 7.1528156e-08],\n",
       "       [5.8174211e-01, 4.1825798e-01],\n",
       "       [3.3919297e-02, 9.6608067e-01],\n",
       "       [1.0000000e+00, 1.4409777e-08],\n",
       "       [2.9569073e-03, 9.9704307e-01],\n",
       "       [9.9983740e-01, 1.6260364e-04],\n",
       "       [1.0000000e+00, 3.8802184e-09],\n",
       "       [3.2391887e-02, 9.6760815e-01],\n",
       "       [6.9521898e-01, 3.0478099e-01],\n",
       "       [9.9999988e-01, 9.2451032e-08],\n",
       "       [9.9995959e-01, 4.0361308e-05],\n",
       "       [7.3636821e-03, 9.9263632e-01],\n",
       "       [5.8076284e-03, 9.9419230e-01],\n",
       "       [1.0233377e-02, 9.8976666e-01],\n",
       "       [4.6294439e-03, 9.9537057e-01],\n",
       "       [9.9999988e-01, 8.8792362e-08],\n",
       "       [1.0000000e+00, 7.9744576e-24],\n",
       "       [9.8724887e-03, 9.9012756e-01],\n",
       "       [1.3172929e-02, 9.8682702e-01],\n",
       "       [9.9999976e-01, 2.2151382e-07],\n",
       "       [2.5093583e-03, 9.9749064e-01],\n",
       "       [1.0000000e+00, 9.9505658e-13],\n",
       "       [9.9996960e-01, 3.0425303e-05],\n",
       "       [2.9885648e-03, 9.9701142e-01],\n",
       "       [2.7345160e-01, 7.2654831e-01],\n",
       "       [9.9328071e-01, 6.7193350e-03],\n",
       "       [4.3531135e-03, 9.9564689e-01],\n",
       "       [1.0000000e+00, 2.4289928e-10],\n",
       "       [9.9730849e-01, 2.6914671e-03],\n",
       "       [1.0000000e+00, 8.8536140e-27],\n",
       "       [9.9997509e-01, 2.4926503e-05],\n",
       "       [1.0000000e+00, 1.6897058e-09],\n",
       "       [1.0000000e+00, 3.3756231e-14],\n",
       "       [9.9998343e-01, 1.6548900e-05],\n",
       "       [9.9994588e-01, 5.4168722e-05],\n",
       "       [8.8818192e-01, 1.1181816e-01],\n",
       "       [1.0000000e+00, 2.9648248e-24],\n",
       "       [1.8045935e-01, 8.1954062e-01],\n",
       "       [1.0000000e+00, 2.2215922e-10],\n",
       "       [9.9970227e-01, 2.9771964e-04],\n",
       "       [8.4089963e-03, 9.9159098e-01],\n",
       "       [1.0000000e+00, 1.5493544e-25],\n",
       "       [9.9999571e-01, 4.2609977e-06],\n",
       "       [9.9999988e-01, 6.8936508e-08],\n",
       "       [9.9999690e-01, 3.0737481e-06],\n",
       "       [9.9926513e-01, 7.3481648e-04],\n",
       "       [9.9999928e-01, 7.6026811e-07],\n",
       "       [1.6598349e-03, 9.9834013e-01],\n",
       "       [3.4455106e-02, 9.6554494e-01],\n",
       "       [8.4506512e-02, 9.1549349e-01],\n",
       "       [9.9999511e-01, 4.8454581e-06],\n",
       "       [2.7721664e-03, 9.9722785e-01],\n",
       "       [5.4687923e-03, 9.9453121e-01],\n",
       "       [9.9999809e-01, 1.9092713e-06],\n",
       "       [9.9978441e-01, 2.1560831e-04],\n",
       "       [4.2693462e-02, 9.5730650e-01],\n",
       "       [1.7850898e-03, 9.9821496e-01],\n",
       "       [2.3019768e-03, 9.9769801e-01],\n",
       "       [9.9998426e-01, 1.5725682e-05],\n",
       "       [9.9999809e-01, 1.8731034e-06],\n",
       "       [1.0000000e+00, 2.3688485e-11],\n",
       "       [9.9999309e-01, 6.8845834e-06],\n",
       "       [3.9318237e-03, 9.9606812e-01],\n",
       "       [2.1502238e-03, 9.9784982e-01],\n",
       "       [2.9826318e-03, 9.9701738e-01],\n",
       "       [9.9999833e-01, 1.6263911e-06],\n",
       "       [1.2374123e-03, 9.9876261e-01],\n",
       "       [8.5074407e-01, 1.4925589e-01],\n",
       "       [5.2603619e-04, 9.9947399e-01],\n",
       "       [5.7334691e-01, 4.2665309e-01],\n",
       "       [8.0171265e-03, 9.9198288e-01],\n",
       "       [1.0000000e+00, 4.2523499e-11],\n",
       "       [7.4926806e-03, 9.9250728e-01],\n",
       "       [9.9997807e-01, 2.1955124e-05],\n",
       "       [9.9999738e-01, 2.6427524e-06],\n",
       "       [6.3769460e-02, 9.3623054e-01],\n",
       "       [1.4951615e-02, 9.8504835e-01],\n",
       "       [2.0003822e-02, 9.7999620e-01],\n",
       "       [1.0000000e+00, 5.9931582e-12],\n",
       "       [9.9990940e-01, 9.0648064e-05],\n",
       "       [1.0000000e+00, 1.2970388e-12],\n",
       "       [3.7152320e-02, 9.6284765e-01],\n",
       "       [9.9999857e-01, 1.3819759e-06],\n",
       "       [9.9985313e-01, 1.4678860e-04],\n",
       "       [9.9999988e-01, 6.9929875e-08],\n",
       "       [9.9982101e-01, 1.7896225e-04],\n",
       "       [1.4828941e-01, 8.5171056e-01],\n",
       "       [9.9999988e-01, 6.1045824e-08],\n",
       "       [1.0000000e+00, 1.8977606e-15],\n",
       "       [1.0000000e+00, 1.9267597e-08],\n",
       "       [1.0000000e+00, 1.9753397e-15],\n",
       "       [1.0000000e+00, 4.9889211e-15],\n",
       "       [9.9999988e-01, 7.5340999e-08],\n",
       "       [5.3602612e-01, 4.6397391e-01],\n",
       "       [9.9999857e-01, 1.3839054e-06],\n",
       "       [3.4418488e-03, 9.9655813e-01],\n",
       "       [3.3756064e-03, 9.9662435e-01],\n",
       "       [1.0000000e+00, 1.1227744e-15],\n",
       "       [9.9999774e-01, 2.2879631e-06],\n",
       "       [7.2619184e-03, 9.9273807e-01],\n",
       "       [1.0453498e-01, 8.9546502e-01],\n",
       "       [9.9983656e-01, 1.6344726e-04],\n",
       "       [1.5857866e-02, 9.8414212e-01],\n",
       "       [3.1474361e-03, 9.9685258e-01],\n",
       "       [9.9999964e-01, 4.1316397e-07],\n",
       "       [1.0000000e+00, 1.3063029e-29],\n",
       "       [9.9990416e-01, 9.5869014e-05]], dtype=float32)"
      ]
     },
     "execution_count": 21,
     "metadata": {},
     "output_type": "execute_result"
    }
   ],
   "source": [
    "y_pred"
   ]
  },
  {
   "cell_type": "code",
   "execution_count": 22,
   "metadata": {},
   "outputs": [],
   "source": [
    "import numpy as np\n",
    "y_pred = np.argmax(y_pred, axis=1)"
   ]
  },
  {
   "cell_type": "code",
   "execution_count": 23,
   "metadata": {},
   "outputs": [
    {
     "data": {
      "text/plain": [
       "array([0, 0, 0, 1, 0, 0, 0, 0, 0, 0, 1, 0, 0, 1, 0, 0, 1, 0, 1, 1, 1, 1,\n",
       "       0, 1, 0, 1, 0, 0, 0, 1, 0, 1, 0, 0, 1, 0, 0, 0, 1, 1, 1, 1, 0, 0,\n",
       "       1, 1, 0, 1, 0, 0, 1, 1, 0, 1, 0, 0, 0, 0, 0, 0, 0, 0, 0, 0, 1, 0,\n",
       "       0, 1, 0, 0, 0, 0, 0, 0, 1, 1, 1, 0, 1, 1, 0, 0, 1, 1, 1, 0, 0, 0,\n",
       "       0, 1, 1, 1, 0, 1, 0, 1, 0, 1, 0, 1, 0, 0, 1, 1, 1, 0, 0, 0, 1, 0,\n",
       "       0, 0, 0, 1, 0, 0, 0, 0, 0, 0, 0, 0, 1, 1, 0, 0, 1, 1, 0, 1, 1, 0,\n",
       "       0, 0])"
      ]
     },
     "execution_count": 23,
     "metadata": {},
     "output_type": "execute_result"
    }
   ],
   "source": [
    "y_pred"
   ]
  },
  {
   "cell_type": "code",
   "execution_count": null,
   "metadata": {},
   "outputs": [],
   "source": []
  },
  {
   "cell_type": "code",
   "execution_count": 24,
   "metadata": {},
   "outputs": [],
   "source": [
    "from tensorflow.keras.models import load_model\n",
    "from tensorflow.keras.preprocessing import image"
   ]
  },
  {
   "cell_type": "code",
   "execution_count": 25,
   "metadata": {},
   "outputs": [],
   "source": [
    "model=load_model('model.h5')"
   ]
  },
  {
   "cell_type": "code",
   "execution_count": null,
   "metadata": {},
   "outputs": [],
   "source": []
  },
  {
   "cell_type": "code",
   "execution_count": 42,
   "metadata": {},
   "outputs": [],
   "source": [
    "img=image.load_img('Dataset/Test/Parasite/C39P4thinF_original_IMG_20150622_110352_cell_80.png',target_size=(224,224))\n",
    "\n"
   ]
  },
  {
   "cell_type": "code",
   "execution_count": 35,
   "metadata": {},
   "outputs": [
    {
     "data": {
      "text/plain": [
       "array([[[0., 0., 0.],\n",
       "        [0., 0., 0.],\n",
       "        [0., 0., 0.],\n",
       "        ...,\n",
       "        [0., 0., 0.],\n",
       "        [0., 0., 0.],\n",
       "        [0., 0., 0.]],\n",
       "\n",
       "       [[0., 0., 0.],\n",
       "        [0., 0., 0.],\n",
       "        [0., 0., 0.],\n",
       "        ...,\n",
       "        [0., 0., 0.],\n",
       "        [0., 0., 0.],\n",
       "        [0., 0., 0.]],\n",
       "\n",
       "       [[0., 0., 0.],\n",
       "        [0., 0., 0.],\n",
       "        [0., 0., 0.],\n",
       "        ...,\n",
       "        [0., 0., 0.],\n",
       "        [0., 0., 0.],\n",
       "        [0., 0., 0.]],\n",
       "\n",
       "       ...,\n",
       "\n",
       "       [[0., 0., 0.],\n",
       "        [0., 0., 0.],\n",
       "        [0., 0., 0.],\n",
       "        ...,\n",
       "        [0., 0., 0.],\n",
       "        [0., 0., 0.],\n",
       "        [0., 0., 0.]],\n",
       "\n",
       "       [[0., 0., 0.],\n",
       "        [0., 0., 0.],\n",
       "        [0., 0., 0.],\n",
       "        ...,\n",
       "        [0., 0., 0.],\n",
       "        [0., 0., 0.],\n",
       "        [0., 0., 0.]],\n",
       "\n",
       "       [[0., 0., 0.],\n",
       "        [0., 0., 0.],\n",
       "        [0., 0., 0.],\n",
       "        ...,\n",
       "        [0., 0., 0.],\n",
       "        [0., 0., 0.],\n",
       "        [0., 0., 0.]]], dtype=float32)"
      ]
     },
     "execution_count": 35,
     "metadata": {},
     "output_type": "execute_result"
    }
   ],
   "source": [
    "x=image.img_to_array(img)\n",
    "x"
   ]
  },
  {
   "cell_type": "code",
   "execution_count": 36,
   "metadata": {},
   "outputs": [
    {
     "data": {
      "text/plain": [
       "(224, 224, 3)"
      ]
     },
     "execution_count": 36,
     "metadata": {},
     "output_type": "execute_result"
    }
   ],
   "source": [
    "x.shape"
   ]
  },
  {
   "cell_type": "code",
   "execution_count": 37,
   "metadata": {},
   "outputs": [],
   "source": [
    "x=x/255"
   ]
  },
  {
   "cell_type": "code",
   "execution_count": 38,
   "metadata": {},
   "outputs": [
    {
     "data": {
      "text/plain": [
       "(1, 224, 224, 3)"
      ]
     },
     "execution_count": 38,
     "metadata": {},
     "output_type": "execute_result"
    }
   ],
   "source": [
    "x=np.expand_dims(x,axis=0)\n",
    "img_data=preprocess_input(x)\n",
    "img_data.shape"
   ]
  },
  {
   "cell_type": "code",
   "execution_count": 39,
   "metadata": {},
   "outputs": [
    {
     "data": {
      "text/plain": [
       "array([[1., 0.]], dtype=float32)"
      ]
     },
     "execution_count": 39,
     "metadata": {},
     "output_type": "execute_result"
    }
   ],
   "source": [
    "model.predict(img_data)"
   ]
  },
  {
   "cell_type": "code",
   "execution_count": 40,
   "metadata": {},
   "outputs": [],
   "source": [
    "a=np.argmax(model.predict(img_data), axis=1)"
   ]
  },
  {
   "cell_type": "code",
   "execution_count": 41,
   "metadata": {},
   "outputs": [
    {
     "name": "stdout",
     "output_type": "stream",
     "text": [
      "Infected\n"
     ]
    }
   ],
   "source": [
    "if(a==1):\n",
    "    print(\"Uninfected\")\n",
    "else:\n",
    "    print(\"Infected\")"
   ]
  },
  {
   "cell_type": "code",
   "execution_count": null,
   "metadata": {},
   "outputs": [],
   "source": []
  },
  {
   "cell_type": "code",
   "execution_count": null,
   "metadata": {},
   "outputs": [],
   "source": []
  }
 ],
 "metadata": {
  "kernelspec": {
   "display_name": "Python 3 (ipykernel)",
   "language": "python",
   "name": "python3"
  },
  "language_info": {
   "codemirror_mode": {
    "name": "ipython",
    "version": 3
   },
   "file_extension": ".py",
   "mimetype": "text/x-python",
   "name": "python",
   "nbconvert_exporter": "python",
   "pygments_lexer": "ipython3",
   "version": "3.9.7"
  }
 },
 "nbformat": 4,
 "nbformat_minor": 2
}
